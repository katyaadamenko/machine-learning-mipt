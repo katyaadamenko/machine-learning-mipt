{
 "cells": [
  {
   "cell_type": "markdown",
   "metadata": {},
   "source": [
    "<span style=\"font-size: 14pt\">Домашнее задание №8 </span>\n",
    "\n",
    "<span style=\"color: red; font-size: 14pt\">Deadline: 20.05.2017 23:59:59</span>\n",
    "\n",
    "<span style=\"font-size: 10pt\">ФИВТ, АПТ, Курс по машинному обучению, Весна 2017, Модуль Unspervised Learning, </span>\n",
    "\n",
    "<span style=\"color:blue; font-size: 10pt\">Alexey Romanenko, </span>\n",
    "<span style=\"color:blue; font-size: 10pt; font-family: 'Verdana'\">alexromsput@gmail.com</span>\n"
   ]
  },
  {
   "cell_type": "markdown",
   "metadata": {},
   "source": [
    "<h1 align=\"center\">Organization Info</h1> "
   ]
  },
  {
   "cell_type": "markdown",
   "metadata": {},
   "source": [
    "**Дополнительный материал для выполнения дз**:\n",
    "- Воронцов К. В. Математические методы обучения по прецедентам. 2012. http://www.machinelearning.ru/wiki/images/6/6d/Voron-ML-1.pdf (разделы 5.2 и 7.1)\n",
    "- Hastie T., Tibshirani R., Friedman J. The Elements of Statistical Learning. Springer: Data Mining, Inference, and Prediction.  — 2nd ed. — Springer-Verlag. 2009. — 746 p.http://statweb.stanford.edu/~tibs/ElemStatLearn/printings/ESLII_print10.pdf (глава 14)\n",
    "\n",
    "\n",
    "\n",
    "**Оформление дз**: \n",
    "- Присылайте выполненное задание на почту ``ml.course.mipt@gmail.com``\n",
    "- Укажите тему письма в следующем формате ``ML2017_fall <номер_группы> <фамилия>``, к примеру -- ``ML2017_fall 496 ivanov``\n",
    "- Выполненное дз сохраните в файл ``<фамилия>_<группа>_task<номер задания>.ipnb``, к примеру -- ``ML2017_496_task1.ipnb``\n",
    "\n",
    "**Вопросы**:\n",
    "- Присылайте вопросы на почту ``ml.course.mipt@gmail.com``\n",
    "- Укажите тему письма в следующем формате ``ML2016_fall Question <Содержание вопроса>``\n",
    "\n",
    "--------\n",
    "- **PS1**: Используются автоматические фильтры, и просто не найдем ваше дз, если вы не аккуратно его подпишите.\n",
    "- **PS2**: Дедлайн жесткий, в том числе помтоу что это ДЗ последнее в курсе. "
   ]
  },
  {
   "cell_type": "markdown",
   "metadata": {},
   "source": [
    "<h1 align=\"center\">Контрольные вопросы (0 % - для самоконтроля) </h1> "
   ]
  },
  {
   "cell_type": "markdown",
   "metadata": {},
   "source": [
    "Ответе на вопросы своими словами (загугленный материал надо пересказать), ответ обоснуйте (напишите и ОБЪЯСНИТЕ формулки если потребуется), если не выходит, то вернитесь к лекции дополнительным материалам:\n",
    "\n",
    "**Вопрос 1**: В чём заключается проблема мультиколлинеарности?\n",
    "\n",
    "Коллинеарные признаки - возникают близкие к нулю собственные значения, что приводит к нейстойчивости и неинтерпретируемости решений, ведёт к переобучению\n",
    "Большой количество признаков, которые несут одинаковую информацию - большая размерность пространства признаков - проблемы с обучением, часть можно убрать и не потерять информацию. \n",
    "\n",
    "**Вопрос 2**: Какие проблемы при обучении алгоритмов возникают из-за большой разамерности пространства признаков?\n",
    "\n",
    "Требуется хранить большое число данных, трудоемкость вычислений, возрастание числа шумов.\n",
    "\n",
    "**Вопрос 3**: В чем суть проклятия размерности?\n",
    "\n",
    "Экспоненциальное возрастание количества данных с увеличением размерности пространства\n",
    "\n",
    "** Вопрос 4**: Какая связь между решением задачи PCA и SVD-разложение матрицы регрессии?\n",
    "\n",
    "PCA находит новую матрицу признаков(новое число признаков m << старого числа признаков n) и преобразование, которое максимально точно воостанавливает старые признаки по новым.\n",
    "\n",
    "PCA основывается на SVD-разложении: \n",
    "\n",
    "** Вопрос 5**: Почему в tSNE расстояние между парамми объектов измеряется \"по-стьюденту\" и как это помогает решить проблему \"скрученности\" (crowding problem)?\n",
    "\n",
    "**Вопрос 6**: На какой идее базируются алгоритмы аггломеративной кластеризации? Напишите формулу Ланса-Вильма\n",
    "\n",
    "**Вопрос 7**: Какие два шага выделяют в алгоритме кластеризации k-means?\n",
    "\n",
    "**Вопрос 8**: В чём отличия (основные упрощения) k-means от EM-алгоритма кластеризации?\n",
    "\n",
    "** Вопрос 9 **Какой принцип работы графовых алгоритмов кластеризации?\n",
    "\n",
    "** Вопрос 10 **  В чем некорректность постановки задачи кластеризации?\n",
    "\n",
    "-----------\n",
    "PS: Если проверяющий не понял ответ на большинство вопросов, то будет пичалька. Пишите так, чтобы можно было разобраться. "
   ]
  },
  {
   "cell_type": "markdown",
   "metadata": {
    "collapsed": true
   },
   "source": [
    "<h1 align=\"center\">Вопросы по теории (30%) </h1> "
   ]
  },
  {
   "cell_type": "markdown",
   "metadata": {},
   "source": [
    "** Задача 1 ** \n",
    "Ответьте на вопросы:\n",
    "\n",
    " 1) Как можно не прибегая к визуализации понять, что кластерная структура у данного облака точек отсутствует?\n",
    " \n",
    " Запускаем какой-нибудь алгоритм кластеризации на данном облаке точек несколько раз. Если алгоритм будет каждый раз выдавать разные результаты, то кластерная структура отсутствует.\n",
    " \n",
    " 2) Какие из алгоритмов кластеризации могут выделять кластеры с ленточной структурой? \n",
    " \n",
    " DBSCAN, алгоритм выделения связных компонент, FOREL \n",
    " \n",
    " 3) Какие алгоритмы кластеризации чувствительны к шуму и перемычкам?\n",
    " \n",
    " Алгоритм выделения связных компонент(и к шуму и к перемычкам), КНП(Кратчайший Незамкнутый Путь), \n",
    " \n",
    " 4) Каким образом приближают «центр кластера» в нелинейных пространствах? \n",
    " \n",
    " $x_0 = \\operatorname*{argmin}\\limits_{x \\in K_0} \\operatorname*{\\sum}\\limits_{x' \\in K_0} \\rho(x, x')$\n",
    " \n",
    " 5) Каким образом можно определять число кластеров?\n",
    " \n",
    " Применить алгоритм иерархической кластеризации, построить дендрограмму. Дендрограмма - дерево, построенное по матрице мер схожести точек(с каждым шагом алгоритма сливаются кластеры, расстояние между которыми минимально). По дендрограмме смотрим, какое количество кластеров стоит выделить(видно, какие кластеры будут слишком большими или слишком маленькими).\n",
    " \n",
    "** Задача 2 **\n",
    "Даны пять точек на числовой оси $X = (1; 5; 7; 8; 8)$, число кластеров равно 2. Рассчитайте ответ алгоритма  K-means (финальные центры кластеров), если начальные центры кластеров c1 = 1, c2 = 10.\n",
    "\n",
    "После первого шага точки разобьются на два класса по тому, к какому центру точка ближе:\n",
    "\n",
    "1: 1, 5\n",
    "\n",
    "2: 7, 8, 8\n",
    "\n",
    "Пересчитаем центры кластеров: $c_1 = \\frac{1 + 5}{2} = 3$, $c_2 = \\frac{7 + 8 + 8}{3} = 7 \\frac{2}{3}$\n",
    "\n",
    "После следующего шага кластеры не изменятся (точки оказались ближе к центрам тех кластеров, в которых находятся). Значит. это и будет ответом алгоритма.\n",
    "\n",
    "** Задача 3 **\n",
    "Докажите, что the k-means всегда сходится.\n",
    "\n",
    "Покажем, что с каждым шагом K-means монотонно уменьшается $\\frac{1}{n} \\sum_{j = 1}^{K}\\sum{i = 1}^n||x_i - c_j||^2$. Пусть $ X^{(t)}$ - текущее разбиение точек на кластеры. Обозначим $\\psi(X^{(t)}) = \\frac{1}{n} \\sum_{j = 1}^{K}\\sum{i = 1}^n||x_i - c_j||^2$. Тогда $$\\psi(X^{(t)}) \\geq \\sum_{j = 1}^{K}\\sum{x_i \\in X_j^{(t)}}||x_i - c_j^{(t)}||^2 \\geq \\sum_{j = 1}^{K}\\sum{x_i \\in X_j^{(t)}}||x_i - c_j^{(t + 1)}||^2 \\geq \\psi(X^{(t + 1)})$$\n",
    "\n",
    "Общее число возможных разбиений конечно и равно $C_n^k$(так как разбиение задаётся центрами кластеров), значит, конечно и возможное число значений функции $\\psi(X_t)$. Так как K-means монотонно уменьшает $\\psi(X^{(t)})$ и эта функция принимает конечное число значений, то настанет момент, когда $\\psi$ перестанет уменьшаться. Тогда если $\\psi(X^{(t)}) = \\psi(X^{(t + 1)})$, то и $X^{(t)} = X^{(t + 1)}$ (иначе, если точка \"перенеслась\" в другой кластер к другому центру, то если суммарное расстояние от нее до центров уменьшится, найдется другая точка, для которой расстояние увеличится в силу того, что $\\psi$ останется неизменным для неё - противоречие с выбором кластеров в K-means)\n",
    "\n",
    "\n",
    "** Задача 4 **\n",
    "Для сжатия размерности пространства алгоритм PCA применяется датасету с количеством признаков $D = 100$. Наблюдается следующий спектр собственных значений матрицы объектов-признаков. \n",
    "<img src=\"PCA_lambda.png\" width=\"600\">\n",
    "Ответьте на вопросы\n",
    "\n",
    "* 1) Высокая ли эффективная размерность пространства признаков (intrinsic dimensionality) (насколько она близка к 100)?\n",
    "* 2) Можно ли перевести датасет с помощью PCA в пространство меньшей размерности с минимальными потерями точности? Если да, то чему примерно будет равна размернось "
   ]
  },
  {
   "cell_type": "markdown",
   "metadata": {},
   "source": [
    "<h2 align=\"center\">Практическое задание 1 (30%) </h2>\n",
    "Реализуйте PCA"
   ]
  },
  {
   "cell_type": "code",
   "execution_count": 10,
   "metadata": {
    "collapsed": false
   },
   "outputs": [],
   "source": [
    "import numpy as np\n",
    "import pylab as plt\n",
    "'''\n",
    "Performs the Principal Coponent analysis of the Matrix F\n",
    "Matrix must be n * l dimensions\n",
    "where n is # features\n",
    "l is # samples\n",
    "'''\n",
    "\n",
    "def PCA(F, varRetained = 0.95, show = False):\n",
    "    # Input\n",
    "    #     F - initaial matrix \n",
    "    # Compute Covariance Matrix Sigma\n",
    "    # Input\n",
    "    (n, l) = F.shape\n",
    "    Sigma = 1.0 / l * F.dot(np.transpose(F))\n",
    "    # Compute eigenvectors and eigenvalues of Sigma by SVD\n",
    "    # U, V - matrix, d - array: Sigma = U * np.diag(d) * V\n",
    "    #U, d, V = посчитать SVD матрицы Sigma\n",
    "    U, d, V = np.linalg.svd(Sigma, full_matrices=True)\n",
    "\n",
    "    # compute the value m: number of minumum features that retains the given variance varRetaine\n",
    "    dTot = np.sum(d)\n",
    "    var_i = np.array([np.sum(d[: i + 1]) / dTot * 100.0 for i in xrange(n)])\n",
    "    #m = вычислите необходимое число главных компонент\n",
    "    m = 0\n",
    "    while var_i[m] <= varRetained * 100:\n",
    "        m = m + 1\n",
    "    #print '%.2f %% variance retained in %m dimensions' % верните число m и точность, которая достигается при этом числе главных компонент\n",
    "    print '%.2f %% variance retained in %d dimensions' % (var_i[m], m)\n",
    "\n",
    "    # plot the variance plot\n",
    "    if show:\n",
    "        plt.plot(var_i)\n",
    "        plt.xlabel('Number of Features')\n",
    "        plt.ylabel(' Percentage Variance retained')\n",
    "        plt.title('PCA $\\% \\sigma^2 $ vs # features')\n",
    "        plt.show()\n",
    "\n",
    "    # compute the reduced dimensional features by projection\n",
    "    #U_reduced = только m главных компонент\n",
    "    U_reduced = U[:, : m + 1]\n",
    "    #G = вычислить матрицу в преобразованном пространстве\n",
    "    G = U_reduced.dot(np.diag(d[:m + 1]))\n",
    "\n",
    "    return G, U_reduced"
   ]
  },
  {
   "cell_type": "code",
   "execution_count": 11,
   "metadata": {
    "collapsed": true
   },
   "outputs": [],
   "source": [
    "# Примените алгоритм к данным MNIST\n",
    "from sklearn.model_selection import train_test_split\n",
    "\n",
    "from sklearn.datasets import load_digits\n",
    "X, y = load_digits(return_X_y=True)\n",
    "X_train, X_test, Y_train, Y_test = train_test_split(X, y, train_size=0.7)"
   ]
  },
  {
   "cell_type": "code",
   "execution_count": 12,
   "metadata": {
    "collapsed": false
   },
   "outputs": [
    {
     "name": "stdout",
     "output_type": "stream",
     "text": [
      "Performing PCA - Principal COmponent Analysis\n",
      "95.25 % variance retained in 15 dimensions\n"
     ]
    },
    {
     "data": {
      "image/png": "[encoded data removed]",
      "text/plain": [
       "<matplotlib.figure.Figure at 0xaeaa860>"
      ]
     },
     "metadata": {},
     "output_type": "display_data"
    }
   ],
   "source": [
    "#################################################################\n",
    "# PCA of training set\n",
    "print 'Performing PCA - Principal COmponent Analysis'\n",
    "\n",
    "Z, U_reduced = PCA(X.T, varRetained = 0.95, show = True)"
   ]
  },
  {
   "cell_type": "code",
   "execution_count": 13,
   "metadata": {
    "collapsed": false
   },
   "outputs": [
    {
     "name": "stdout",
     "output_type": "stream",
     "text": [
      "[[  0.00000000e+00   0.00000000e+00   0.00000000e+00 ...,   0.00000000e+00\n",
      "    0.00000000e+00   0.00000000e+00]\n",
      " [ -1.54488948e+01  -3.10607025e+00   1.61146465e+00 ...,   4.73831836e-01\n",
      "   -3.02828618e-01   2.51486719e-02]\n",
      " [ -2.69518610e+02  -4.01097776e+01   7.32497095e+00 ...,   2.87901177e+00\n",
      "   -1.27824278e+00  -2.40609775e+00]\n",
      " ..., \n",
      " [ -3.50321448e+02  -1.61241112e+01  -2.99508348e+01 ...,   1.66633759e+00\n",
      "    3.80756740e-01  -3.47331932e-01]\n",
      " [ -1.05013006e+02  -6.59091287e+00  -3.51400667e+00 ...,   2.38432870e+00\n",
      "    1.68313933e+00  -2.48867747e+00]\n",
      " [ -1.80936560e+01  -2.06005919e+00   1.04699897e+00 ...,  -1.06021920e-01\n",
      "    7.44192358e-01  -1.40355582e+00]]\n",
      "[[ 0.          0.          0.         ...,  0.          0.          0.        ]\n",
      " [-0.00577193 -0.01736194  0.0098574  ...,  0.02193748 -0.01576565\n",
      "   0.00147984]\n",
      " [-0.10069602 -0.2242008   0.04480717 ...,  0.13329258 -0.06654696\n",
      "  -0.14158377]\n",
      " ..., \n",
      " [-0.13088512 -0.09012861 -0.18321057 ...,  0.07714815  0.01982268\n",
      "  -0.02043831]\n",
      " [-0.03923437 -0.03684109 -0.02149533 ...,  0.11038973  0.08762639\n",
      "  -0.14644307]\n",
      " [-0.00676005 -0.01151507  0.00640454 ..., -0.00490861  0.03874361\n",
      "  -0.08259046]]\n"
     ]
    }
   ],
   "source": [
    "print Z\n",
    "print U_reduced"
   ]
  },
  {
   "cell_type": "markdown",
   "metadata": {},
   "source": [
    "<h1 align=\"center\"><h2 align=\"center\">Практическое задание 2 (40%) </h2> </h1>"
   ]
  },
  {
   "cell_type": "markdown",
   "metadata": {},
   "source": [
    "<h2 align=\"left\">Изучение алгоритмов кластеризации на разных выборках</h2>\n",
    "\n",
    "### Кластеризация цифр с помощью dbscan\n",
    "На данных из sklearn.datasets.load_digits примените алгоритмы кластеризации (знания о метках классов при кластеризации использовать нельзя):\n",
    " - <a href='http://scikit-learn.org/stable/modules/generated/sklearn.cluster.DBSCAN.html#sklearn.cluster.DBSCAN'>dbscan </a> \n",
    " запускайте при различных параметрах eps и minsamples, для всех экспериментов можете выбрать одну метрику (вспомните семинар про  метрические алгоритмы);\n",
    " - Используя метки классов цифр, оцените качество различных кластеризаций при помощи Adjusted Mutual Information и Adjusted Rand Index. \n",
    " - визуалируйте изображения тех цифр, которые соответствуют core_points;\n",
    " - визуалируйте изображения тех цифр, которые соответствуют выбросам;\n",
    " - сделайте выводы и применимости алгоритмов.\n",
    "\n",
    "### Уменьшение палитры изображения\n",
    " - для <a href=\"https://thumbs.dreamstime.com/x/two-lorikeet-birds-2293918.jpg\"> картинки </a> \n",
    "нужно уменьшить число цветов в палитре; для этого нужно выделить кластеры в пространстве RGB, объекты соответствуют пикселам изображения; после выделения кластеров,\n",
    "все пикселы, отнесенные в один кластер, заполняются одним цветом; этот цвет может быть центроидом соответствующего кластера, медианным цветом по кластеру. \n",
    " - Попробуйте различные алгоритмы кластеризации:\n",
    "        -- KMeans\n",
    "        -- MeanShift\n",
    "        -- AgglomerativeClustering\n",
    "   Рассмотрите число кластеров K = 2, 3, 10, 20\n",
    " - Для различных кластеризаций оцените и сравните потери от уменьшения цветов при помощи\n",
    "метрики <a href=\"http://scikit-image.org/docs/dev/api/skimage.measure.html\"> SSIM</a>. Какой способ оказался лучшим?"
   ]
  },
  {
   "cell_type": "markdown",
   "metadata": {},
   "source": [
    "## Кластеризация с помощью dbscan"
   ]
  },
  {
   "cell_type": "code",
   "execution_count": 15,
   "metadata": {
    "collapsed": true
   },
   "outputs": [],
   "source": [
    "from sklearn.cluster import DBSCAN"
   ]
  },
  {
   "cell_type": "code",
   "execution_count": 16,
   "metadata": {
    "collapsed": true
   },
   "outputs": [],
   "source": [
    "from sklearn.preprocessing import StandardScaler"
   ]
  },
  {
   "cell_type": "code",
   "execution_count": 17,
   "metadata": {
    "collapsed": true
   },
   "outputs": [],
   "source": [
    "X, y = load_digits(return_X_y=True)\n",
    "X = StandardScaler().fit_transform(X)"
   ]
  },
  {
   "cell_type": "markdown",
   "metadata": {},
   "source": [
    "Подбираем параметры DBSCAN:"
   ]
  },
  {
   "cell_type": "code",
   "execution_count": 29,
   "metadata": {
    "collapsed": false,
    "scrolled": true
   },
   "outputs": [
    {
     "name": "stdout",
     "output_type": "stream",
     "text": [
      "2.0 5 3.0\n",
      "2.5 5 2.0\n",
      "2.5 6 1.0\n",
      "2.5 7 1.0\n",
      "2.5 8 1.0\n",
      "2.5 9 1.0\n",
      "2.5 10 1.0\n",
      "2.5 11 1.0\n",
      "2.5 12 1.0\n",
      "2.5 13 1.0\n",
      "2.5 14 1.0\n",
      "2.5 15 1.0\n",
      "3.0 5 13.0\n",
      "3.0 6 9.0\n",
      "3.0 7 4.0\n",
      "3.0 8 4.0\n",
      "3.0 9 3.0\n",
      "3.0 10 2.0\n",
      "3.0 11 2.0\n",
      "3.0 12 2.0\n",
      "3.0 13 1.0\n",
      "3.0 14 1.0\n",
      "3.0 15 1.0\n",
      "3.0 16 1.0\n",
      "3.0 17 1.0\n",
      "3.0 18 1.0\n",
      "3.0 19 1.0\n",
      "3.5 5 26.0\n",
      "3.5 6 15.0\n",
      "3.5 7 13.0\n",
      "3.5 8 8.0\n",
      "3.5 9 5.0\n",
      "3.5 10 5.0\n",
      "3.5 11 5.0\n",
      "3.5 12 4.0\n",
      "3.5 13 4.0\n",
      "3.5 14 4.0\n",
      "3.5 15 4.0\n",
      "3.5 16 4.0\n",
      "3.5 17 3.0\n",
      "3.5 18 3.0\n",
      "3.5 19 3.0\n",
      "4.0 5 26.0\n",
      "4.0 6 20.0\n",
      "4.0 7 14.0\n",
      "4.0 8 14.0\n",
      "4.0 9 13.0\n",
      "4.0 10 13.0\n",
      "4.0 11 9.0\n",
      "4.0 12 10.0\n",
      "4.0 13 9.0\n",
      "4.0 14 10.0\n",
      "4.0 15 8.0\n",
      "4.0 16 5.0\n",
      "4.0 17 5.0\n",
      "4.0 18 4.0\n",
      "4.0 19 4.0\n",
      "4.5 5 12.0\n",
      "4.5 6 15.0\n",
      "4.5 7 10.0\n",
      "4.5 8 9.0\n",
      "4.5 9 8.0\n",
      "4.5 10 8.0\n",
      "4.5 11 6.0\n",
      "4.5 12 6.0\n",
      "4.5 13 6.0\n",
      "4.5 14 9.0\n",
      "4.5 15 9.0\n",
      "4.5 16 9.0\n",
      "4.5 17 10.0\n",
      "4.5 18 10.0\n",
      "4.5 19 10.0\n",
      "5.0 5 4.0\n",
      "5.0 6 2.0\n",
      "5.0 7 2.0\n",
      "5.0 8 5.0\n",
      "5.0 9 4.0\n",
      "5.0 10 5.0\n",
      "5.0 11 6.0\n",
      "5.0 12 3.0\n",
      "5.0 13 2.0\n",
      "5.0 14 3.0\n",
      "5.0 15 5.0\n",
      "5.0 16 4.0\n",
      "5.0 17 4.0\n",
      "5.0 18 4.0\n",
      "5.0 19 4.0\n",
      "5.5 5 3.0\n",
      "5.5 6 2.0\n",
      "5.5 7 2.0\n",
      "5.5 8 2.0\n",
      "5.5 9 2.0\n",
      "5.5 10 2.0\n",
      "5.5 11 2.0\n",
      "5.5 12 2.0\n",
      "5.5 13 2.0\n",
      "5.5 14 2.0\n",
      "5.5 15 1.0\n",
      "5.5 16 1.0\n",
      "5.5 17 1.0\n",
      "5.5 18 1.0\n",
      "5.5 19 1.0\n",
      "6.0 5 1.0\n",
      "6.0 6 1.0\n",
      "6.0 7 1.0\n",
      "6.0 8 1.0\n",
      "6.0 9 1.0\n",
      "6.0 10 1.0\n",
      "6.0 11 1.0\n",
      "6.0 12 2.0\n",
      "6.0 13 2.0\n",
      "6.0 14 2.0\n",
      "6.0 15 2.0\n",
      "6.0 16 2.0\n",
      "6.0 17 2.0\n",
      "6.0 18 1.0\n",
      "6.0 19 1.0\n",
      "6.5 5 1.0\n",
      "6.5 6 1.0\n",
      "6.5 7 1.0\n",
      "6.5 8 1.0\n",
      "6.5 9 1.0\n",
      "6.5 10 1.0\n",
      "6.5 11 1.0\n",
      "6.5 12 1.0\n",
      "6.5 13 1.0\n",
      "6.5 14 1.0\n",
      "6.5 15 1.0\n",
      "6.5 16 1.0\n",
      "6.5 17 1.0\n",
      "6.5 18 1.0\n",
      "6.5 19 2.0\n",
      "7.0 5 2.0\n",
      "7.0 6 1.0\n",
      "7.0 7 1.0\n",
      "7.0 8 1.0\n",
      "7.0 9 1.0\n",
      "7.0 10 1.0\n",
      "7.0 11 1.0\n",
      "7.0 12 1.0\n",
      "7.0 13 1.0\n",
      "7.0 14 1.0\n",
      "7.0 15 1.0\n",
      "7.0 16 1.0\n",
      "7.0 17 1.0\n",
      "7.0 18 1.0\n",
      "7.0 19 1.0\n",
      "7.5 5 2.0\n",
      "7.5 6 1.0\n",
      "7.5 7 1.0\n",
      "7.5 8 1.0\n",
      "7.5 9 1.0\n",
      "7.5 10 1.0\n",
      "7.5 11 1.0\n",
      "7.5 12 1.0\n",
      "7.5 13 1.0\n",
      "7.5 14 1.0\n",
      "7.5 15 1.0\n",
      "7.5 16 1.0\n",
      "7.5 17 1.0\n",
      "7.5 18 1.0\n",
      "7.5 19 1.0\n",
      "8.0 5 2.0\n",
      "8.0 6 1.0\n",
      "8.0 7 1.0\n",
      "8.0 8 1.0\n",
      "8.0 9 1.0\n",
      "8.0 10 1.0\n",
      "8.0 11 1.0\n",
      "8.0 12 1.0\n",
      "8.0 13 1.0\n",
      "8.0 14 1.0\n",
      "8.0 15 1.0\n"
     ]
    },
    {
     "ename": "KeyboardInterrupt",
     "evalue": "",
     "output_type": "error",
     "traceback": [
      "\u001b[0;31m---------------------------------------------------------------------------\u001b[0m",
      "\u001b[0;31mKeyboardInterrupt\u001b[0m                         Traceback (most recent call last)",
      "\u001b[0;32m<ipython-input-29-ed19ee1efea0>\u001b[0m in \u001b[0;36m<module>\u001b[0;34m()\u001b[0m\n\u001b[1;32m      5\u001b[0m \u001b[1;32mfor\u001b[0m \u001b[0mi\u001b[0m \u001b[1;32min\u001b[0m \u001b[0mxrange\u001b[0m\u001b[1;33m(\u001b[0m\u001b[0meps\u001b[0m\u001b[1;33m.\u001b[0m\u001b[0msize\u001b[0m\u001b[1;33m)\u001b[0m\u001b[1;33m:\u001b[0m\u001b[1;33m\u001b[0m\u001b[0m\n\u001b[1;32m      6\u001b[0m     \u001b[1;32mfor\u001b[0m \u001b[0mj\u001b[0m \u001b[1;32min\u001b[0m \u001b[0mxrange\u001b[0m\u001b[1;33m(\u001b[0m\u001b[0mmin_samples\u001b[0m\u001b[1;33m.\u001b[0m\u001b[0msize\u001b[0m\u001b[1;33m)\u001b[0m\u001b[1;33m:\u001b[0m\u001b[1;33m\u001b[0m\u001b[0m\n\u001b[0;32m----> 7\u001b[0;31m         \u001b[0mdb\u001b[0m \u001b[1;33m=\u001b[0m \u001b[0mDBSCAN\u001b[0m\u001b[1;33m(\u001b[0m\u001b[0meps\u001b[0m\u001b[1;33m=\u001b[0m\u001b[0meps\u001b[0m\u001b[1;33m[\u001b[0m\u001b[0mi\u001b[0m\u001b[1;33m]\u001b[0m\u001b[1;33m,\u001b[0m \u001b[0mmin_samples\u001b[0m\u001b[1;33m=\u001b[0m\u001b[0mmin_samples\u001b[0m\u001b[1;33m[\u001b[0m\u001b[0mj\u001b[0m\u001b[1;33m]\u001b[0m\u001b[1;33m)\u001b[0m\u001b[1;33m.\u001b[0m\u001b[0mfit\u001b[0m\u001b[1;33m(\u001b[0m\u001b[0mX\u001b[0m\u001b[1;33m)\u001b[0m\u001b[1;33m\u001b[0m\u001b[0m\n\u001b[0m\u001b[1;32m      8\u001b[0m         \u001b[0mlabels\u001b[0m \u001b[1;33m=\u001b[0m \u001b[0mdb\u001b[0m\u001b[1;33m.\u001b[0m\u001b[0mlabels_\u001b[0m\u001b[1;33m\u001b[0m\u001b[0m\n\u001b[1;32m      9\u001b[0m         \u001b[0mn_clusters_\u001b[0m\u001b[1;33m[\u001b[0m\u001b[0mi\u001b[0m\u001b[1;33m]\u001b[0m\u001b[1;33m[\u001b[0m\u001b[0mj\u001b[0m\u001b[1;33m]\u001b[0m \u001b[1;33m=\u001b[0m \u001b[0mlen\u001b[0m\u001b[1;33m(\u001b[0m\u001b[0mset\u001b[0m\u001b[1;33m(\u001b[0m\u001b[0mlabels\u001b[0m\u001b[1;33m)\u001b[0m\u001b[1;33m)\u001b[0m \u001b[1;33m-\u001b[0m \u001b[1;33m(\u001b[0m\u001b[1;36m1\u001b[0m \u001b[1;32mif\u001b[0m \u001b[1;33m-\u001b[0m\u001b[1;36m1\u001b[0m \u001b[1;32min\u001b[0m \u001b[0mlabels\u001b[0m \u001b[1;32melse\u001b[0m \u001b[1;36m0\u001b[0m\u001b[1;33m)\u001b[0m\u001b[1;33m\u001b[0m\u001b[0m\n",
      "\u001b[0;32mC:\\programs\\Anaconda2\\lib\\site-packages\\sklearn\\cluster\\dbscan_.pyc\u001b[0m in \u001b[0;36mfit\u001b[0;34m(self, X, y, sample_weight)\u001b[0m\n\u001b[1;32m    264\u001b[0m         \u001b[0mX\u001b[0m \u001b[1;33m=\u001b[0m \u001b[0mcheck_array\u001b[0m\u001b[1;33m(\u001b[0m\u001b[0mX\u001b[0m\u001b[1;33m,\u001b[0m \u001b[0maccept_sparse\u001b[0m\u001b[1;33m=\u001b[0m\u001b[1;34m'csr'\u001b[0m\u001b[1;33m)\u001b[0m\u001b[1;33m\u001b[0m\u001b[0m\n\u001b[1;32m    265\u001b[0m         clust = dbscan(X, sample_weight=sample_weight,\n\u001b[0;32m--> 266\u001b[0;31m                        **self.get_params())\n\u001b[0m\u001b[1;32m    267\u001b[0m         \u001b[0mself\u001b[0m\u001b[1;33m.\u001b[0m\u001b[0mcore_sample_indices_\u001b[0m\u001b[1;33m,\u001b[0m \u001b[0mself\u001b[0m\u001b[1;33m.\u001b[0m\u001b[0mlabels_\u001b[0m \u001b[1;33m=\u001b[0m \u001b[0mclust\u001b[0m\u001b[1;33m\u001b[0m\u001b[0m\n\u001b[1;32m    268\u001b[0m         \u001b[1;32mif\u001b[0m \u001b[0mlen\u001b[0m\u001b[1;33m(\u001b[0m\u001b[0mself\u001b[0m\u001b[1;33m.\u001b[0m\u001b[0mcore_sample_indices_\u001b[0m\u001b[1;33m)\u001b[0m\u001b[1;33m:\u001b[0m\u001b[1;33m\u001b[0m\u001b[0m\n",
      "\u001b[0;32mC:\\programs\\Anaconda2\\lib\\site-packages\\sklearn\\cluster\\dbscan_.pyc\u001b[0m in \u001b[0;36mdbscan\u001b[0;34m(X, eps, min_samples, metric, algorithm, leaf_size, p, sample_weight, n_jobs)\u001b[0m\n\u001b[1;32m    136\u001b[0m         \u001b[1;31m# This has worst case O(n^2) memory complexity\u001b[0m\u001b[1;33m\u001b[0m\u001b[1;33m\u001b[0m\u001b[0m\n\u001b[1;32m    137\u001b[0m         neighborhoods = neighbors_model.radius_neighbors(X, eps,\n\u001b[0;32m--> 138\u001b[0;31m                                                          return_distance=False)\n\u001b[0m\u001b[1;32m    139\u001b[0m \u001b[1;33m\u001b[0m\u001b[0m\n\u001b[1;32m    140\u001b[0m     \u001b[1;32mif\u001b[0m \u001b[0msample_weight\u001b[0m \u001b[1;32mis\u001b[0m \u001b[0mNone\u001b[0m\u001b[1;33m:\u001b[0m\u001b[1;33m\u001b[0m\u001b[0m\n",
      "\u001b[0;32mC:\\programs\\Anaconda2\\lib\\site-packages\\sklearn\\neighbors\\base.pyc\u001b[0m in \u001b[0;36mradius_neighbors\u001b[0;34m(self, X, radius, return_distance)\u001b[0m\n\u001b[1;32m    619\u001b[0m                     \"or set algorithm='brute'\" % self._fit_method)\n\u001b[1;32m    620\u001b[0m             results = self._tree.query_radius(X, radius,\n\u001b[0;32m--> 621\u001b[0;31m                                               return_distance=return_distance)\n\u001b[0m\u001b[1;32m    622\u001b[0m             \u001b[1;32mif\u001b[0m \u001b[0mreturn_distance\u001b[0m\u001b[1;33m:\u001b[0m\u001b[1;33m\u001b[0m\u001b[0m\n\u001b[1;32m    623\u001b[0m                 \u001b[0mresults\u001b[0m \u001b[1;33m=\u001b[0m \u001b[0mresults\u001b[0m\u001b[1;33m[\u001b[0m\u001b[1;33m:\u001b[0m\u001b[1;33m:\u001b[0m\u001b[1;33m-\u001b[0m\u001b[1;36m1\u001b[0m\u001b[1;33m]\u001b[0m\u001b[1;33m\u001b[0m\u001b[0m\n",
      "\u001b[0;31mKeyboardInterrupt\u001b[0m: "
     ]
    }
   ],
   "source": [
    "eps = np.arange(1, 10, 0.5)\n",
    "min_samples = np.arange(5, 20)\n",
    "\n",
    "n_clusters_ = np.zeros((eps.size, min_samples.size))\n",
    "for i in xrange(eps.size):\n",
    "    for j in xrange(min_samples.size):\n",
    "        db = DBSCAN(eps=eps[i], min_samples=min_samples[j]).fit(X)\n",
    "        labels = db.labels_\n",
    "        n_clusters_[i][j] = len(set(labels)) - (1 if -1 in labels else 0)\n",
    "        if n_clusters_[i][j] > 0:\n",
    "            print 'eps:', eps[i], 'min_samples: ', min_samples[j], 'num_clusters: ', n_clusters_[i][j]"
   ]
  },
  {
   "cell_type": "markdown",
   "metadata": {},
   "source": [
    "Возьмём значения, при которых число кластеров равно 10 (eps=4.5, min_samples=19)"
   ]
  },
  {
   "cell_type": "code",
   "execution_count": 30,
   "metadata": {
    "collapsed": true
   },
   "outputs": [],
   "source": [
    "from sklearn.metrics import adjusted_mutual_info_score, adjusted_rand_score"
   ]
  },
  {
   "cell_type": "code",
   "execution_count": 49,
   "metadata": {
    "collapsed": false
   },
   "outputs": [
    {
     "name": "stdout",
     "output_type": "stream",
     "text": [
      "0.461875302104\n",
      "0.17868155265\n"
     ]
    }
   ],
   "source": [
    "db = DBSCAN(eps=4.5, min_samples=19).fit(X)\n",
    "labels_pred = db.labels_\n",
    "print adjusted_mutual_info_score(y, labels_pred)\n",
    "print adjusted_rand_score(y, labels_pred)"
   ]
  },
  {
   "cell_type": "markdown",
   "metadata": {},
   "source": [
    "Визуализируем изображения, соответствующие core_points:"
   ]
  },
  {
   "cell_type": "code",
   "execution_count": 50,
   "metadata": {
    "collapsed": true
   },
   "outputs": [],
   "source": [
    "core_samples_mask = np.zeros_like(db.labels_, dtype=bool)\n",
    "core_samples_mask[db.core_sample_indices_] = True"
   ]
  },
  {
   "cell_type": "code",
   "execution_count": 51,
   "metadata": {
    "collapsed": false
   },
   "outputs": [
    {
     "name": "stdout",
     "output_type": "stream",
     "text": [
      "Populating the interactive namespace from numpy and matplotlib\n"
     ]
    }
   ],
   "source": [
    "import matplotlib.pyplot as plt\n",
    "%pylab inline"
   ]
  },
  {
   "cell_type": "code",
   "execution_count": 52,
   "metadata": {
    "collapsed": true
   },
   "outputs": [],
   "source": [
    " digits = load_digits()"
   ]
  },
  {
   "cell_type": "code",
   "execution_count": 53,
   "metadata": {
    "collapsed": true
   },
   "outputs": [],
   "source": [
    "def ShowCluster(Clus, isShow):\n",
    "    # Figure size (width, height) in inches\n",
    "    fig = plt.figure(figsize=(20, 20))\n",
    "\n",
    "    # Adjust the subplots \n",
    "    fig.subplots_adjust(left=0, right=1, bottom=0, top=1, hspace=0.05, wspace=0.05)\n",
    "    \n",
    "    # For each of the 64 images\n",
    "    j = 0\n",
    "    for i in range(1797):\n",
    "        if (labels_pred[i] == Clus and isShow[i]==True):\n",
    "    # Initialize the subplots: add a subplot in the grid of 8 by 8, at the i+1-th position\n",
    "            ax = fig.add_subplot(15, 15, j + 1, xticks=[], yticks=[])\n",
    "    # Display an image at the i-th position\n",
    "            ax.imshow(digits.images[i], cmap=plt.cm.binary, interpolation='nearest')\n",
    "    # label the image with the target value\n",
    "            ax.text(0, 7, str(digits.target[i]))\n",
    "            j+=1\n",
    "\n",
    "# Show the plot\n",
    "plt.show()"
   ]
  },
  {
   "cell_type": "code",
   "execution_count": 57,
   "metadata": {
    "collapsed": false
   },
   "outputs": [
    {
     "data": {
      "image/png": "[encoded data removed]",
      "text/plain": [
       "<matplotlib.figure.Figure at 0x25876a90>"
      ]
     },
     "metadata": {},
     "output_type": "display_data"
    }
   ],
   "source": [
    "ShowCluster(1, core_samples_mask)"
   ]
  },
  {
   "cell_type": "markdown",
   "metadata": {},
   "source": [
    "Выбросы - с label = -1"
   ]
  },
  {
   "cell_type": "code",
   "execution_count": null,
   "metadata": {
    "collapsed": true
   },
   "outputs": [],
   "source": []
  }
 ],
 "metadata": {
  "anaconda-cloud": {},
  "kernelspec": {
   "display_name": "Python 2",
   "language": "python",
   "name": "python2"
  },
  "language_info": {
   "codemirror_mode": {
    "name": "ipython",
    "version": 2
   },
   "file_extension": ".py",
   "mimetype": "text/x-python",
   "name": "python",
   "nbconvert_exporter": "python",
   "pygments_lexer": "ipython2",
   "version": "2.7.13"
  }
 },
 "nbformat": 4,
 "nbformat_minor": 0
}
